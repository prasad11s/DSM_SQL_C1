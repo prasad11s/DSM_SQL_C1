{
    "metadata": {
        "kernelspec": {
            "name": "SQL",
            "display_name": "SQL",
            "language": "sql"
        },
        "language_info": {
            "name": "sql",
            "version": ""
        }
    },
    "nbformat_minor": 2,
    "nbformat": 4,
    "cells": [
        {
            "cell_type": "markdown",
            "source": [
                "## **Challenge 01:** **Average Order Value**"
            ],
            "metadata": {
                "language": "sql",
                "azdata_cell_guid": "7be34211-7b64-4a8a-8426-ba29ffaff231"
            },
            "attachments": {}
        },
        {
            "cell_type": "code",
            "source": [
                "select Customer_ID,\r\n",
                "     AVG(Amount) Avg_Amount \r\n",
                "from Orders\r\n",
                "Group by Customer_ID"
            ],
            "metadata": {
                "azdata_cell_guid": "29f458b1-be42-40cf-8a0b-968d87234238",
                "language": "sql"
            },
            "outputs": [
                {
                    "output_type": "display_data",
                    "data": {
                        "text/html": "(9 rows affected)"
                    },
                    "metadata": {}
                },
                {
                    "output_type": "display_data",
                    "data": {
                        "text/html": "Total execution time: 00:00:00.015"
                    },
                    "metadata": {}
                },
                {
                    "output_type": "execute_result",
                    "metadata": {},
                    "execution_count": 1,
                    "data": {
                        "application/vnd.dataresource+json": {
                            "schema": {
                                "fields": [
                                    {
                                        "name": "Customer_ID"
                                    },
                                    {
                                        "name": "Avg_Amount"
                                    }
                                ]
                            },
                            "data": [
                                {
                                    "Customer_ID": "1",
                                    "Avg_Amount": "19"
                                },
                                {
                                    "Customer_ID": "2",
                                    "Avg_Amount": "11"
                                },
                                {
                                    "Customer_ID": "3",
                                    "Avg_Amount": "9"
                                },
                                {
                                    "Customer_ID": "4",
                                    "Avg_Amount": "10"
                                },
                                {
                                    "Customer_ID": "5",
                                    "Avg_Amount": "7"
                                },
                                {
                                    "Customer_ID": "6",
                                    "Avg_Amount": "24"
                                },
                                {
                                    "Customer_ID": "7",
                                    "Avg_Amount": "12"
                                },
                                {
                                    "Customer_ID": "8",
                                    "Avg_Amount": "9"
                                },
                                {
                                    "Customer_ID": "9",
                                    "Avg_Amount": "14"
                                }
                            ]
                        },
                        "text/html": [
                            "<table>",
                            "<tr><th>Customer_ID</th><th>Avg_Amount</th></tr>",
                            "<tr><td>1</td><td>19</td></tr>",
                            "<tr><td>2</td><td>11</td></tr>",
                            "<tr><td>3</td><td>9</td></tr>",
                            "<tr><td>4</td><td>10</td></tr>",
                            "<tr><td>5</td><td>7</td></tr>",
                            "<tr><td>6</td><td>24</td></tr>",
                            "<tr><td>7</td><td>12</td></tr>",
                            "<tr><td>8</td><td>9</td></tr>",
                            "<tr><td>9</td><td>14</td></tr>",
                            "</table>"
                        ]
                    }
                }
            ],
            "execution_count": 1
        },
        {
            "cell_type": "markdown",
            "source": [
                "## **Challenge 02:** **Customer Lifetime Value**"
            ],
            "metadata": {
                "azdata_cell_guid": "60d3147d-dfd6-4c48-b59d-4cbbe213306c"
            },
            "attachments": {}
        },
        {
            "cell_type": "code",
            "source": [
                "select Customer_ID\r\n",
                "    , AVG(Amount*1.0) Avg_Amount \r\n",
                "    , COUNT(*) as Trasactions\r\n",
                "    , AVG(Amount*1.0)* COUNT(*) *1.0 as CLV_Indirect\r\n",
                "    , SUM(Amount) as CLV_Direct\r\n",
                "\r\n",
                "from Orders\r\n",
                "Group by Customer_ID"
            ],
            "metadata": {
                "azdata_cell_guid": "930f21dd-5767-4921-baae-25869c265882",
                "language": "sql"
            },
            "outputs": [
                {
                    "output_type": "display_data",
                    "data": {
                        "text/html": "(9 rows affected)"
                    },
                    "metadata": {}
                },
                {
                    "output_type": "display_data",
                    "data": {
                        "text/html": "Total execution time: 00:00:00.012"
                    },
                    "metadata": {}
                },
                {
                    "output_type": "execute_result",
                    "metadata": {},
                    "execution_count": 5,
                    "data": {
                        "application/vnd.dataresource+json": {
                            "schema": {
                                "fields": [
                                    {
                                        "name": "Customer_ID"
                                    },
                                    {
                                        "name": "Avg_Amount"
                                    },
                                    {
                                        "name": "Trasactions"
                                    },
                                    {
                                        "name": "CLV_Indirect"
                                    },
                                    {
                                        "name": "CLV_Direct"
                                    }
                                ]
                            },
                            "data": [
                                {
                                    "Customer_ID": "1",
                                    "Avg_Amount": "19.500000",
                                    "Trasactions": "2",
                                    "CLV_Indirect": "39.000000",
                                    "CLV_Direct": "39"
                                },
                                {
                                    "Customer_ID": "2",
                                    "Avg_Amount": "11.000000",
                                    "Trasactions": "2",
                                    "CLV_Indirect": "22.000000",
                                    "CLV_Direct": "22"
                                },
                                {
                                    "Customer_ID": "3",
                                    "Avg_Amount": "9.666666",
                                    "Trasactions": "3",
                                    "CLV_Indirect": "28.999998",
                                    "CLV_Direct": "29"
                                },
                                {
                                    "Customer_ID": "4",
                                    "Avg_Amount": "10.500000",
                                    "Trasactions": "2",
                                    "CLV_Indirect": "21.000000",
                                    "CLV_Direct": "21"
                                },
                                {
                                    "Customer_ID": "5",
                                    "Avg_Amount": "7.000000",
                                    "Trasactions": "1",
                                    "CLV_Indirect": "7.000000",
                                    "CLV_Direct": "7"
                                },
                                {
                                    "Customer_ID": "6",
                                    "Avg_Amount": "24.500000",
                                    "Trasactions": "2",
                                    "CLV_Indirect": "49.000000",
                                    "CLV_Direct": "49"
                                },
                                {
                                    "Customer_ID": "7",
                                    "Avg_Amount": "12.000000",
                                    "Trasactions": "1",
                                    "CLV_Indirect": "12.000000",
                                    "CLV_Direct": "12"
                                },
                                {
                                    "Customer_ID": "8",
                                    "Avg_Amount": "9.000000",
                                    "Trasactions": "1",
                                    "CLV_Indirect": "9.000000",
                                    "CLV_Direct": "9"
                                },
                                {
                                    "Customer_ID": "9",
                                    "Avg_Amount": "14.000000",
                                    "Trasactions": "1",
                                    "CLV_Indirect": "14.000000",
                                    "CLV_Direct": "14"
                                }
                            ]
                        },
                        "text/html": [
                            "<table>",
                            "<tr><th>Customer_ID</th><th>Avg_Amount</th><th>Trasactions</th><th>CLV_Indirect</th><th>CLV_Direct</th></tr>",
                            "<tr><td>1</td><td>19.500000</td><td>2</td><td>39.000000</td><td>39</td></tr>",
                            "<tr><td>2</td><td>11.000000</td><td>2</td><td>22.000000</td><td>22</td></tr>",
                            "<tr><td>3</td><td>9.666666</td><td>3</td><td>28.999998</td><td>29</td></tr>",
                            "<tr><td>4</td><td>10.500000</td><td>2</td><td>21.000000</td><td>21</td></tr>",
                            "<tr><td>5</td><td>7.000000</td><td>1</td><td>7.000000</td><td>7</td></tr>",
                            "<tr><td>6</td><td>24.500000</td><td>2</td><td>49.000000</td><td>49</td></tr>",
                            "<tr><td>7</td><td>12.000000</td><td>1</td><td>12.000000</td><td>12</td></tr>",
                            "<tr><td>8</td><td>9.000000</td><td>1</td><td>9.000000</td><td>9</td></tr>",
                            "<tr><td>9</td><td>14.000000</td><td>1</td><td>14.000000</td><td>14</td></tr>",
                            "</table>"
                        ]
                    }
                }
            ],
            "execution_count": 5
        },
        {
            "cell_type": "markdown",
            "source": [
                "## **Challenge 03: New & Existing Query**"
            ],
            "metadata": {
                "azdata_cell_guid": "b84513e7-e4da-4ed6-a9ee-434293b55415"
            },
            "attachments": {}
        },
        {
            "cell_type": "code",
            "source": [
                ""
            ],
            "metadata": {
                "azdata_cell_guid": "671cce60-8f8a-4e25-9081-b9b87b73e9fa",
                "language": "sql"
            },
            "outputs": [],
            "execution_count": null
        }
    ]
}