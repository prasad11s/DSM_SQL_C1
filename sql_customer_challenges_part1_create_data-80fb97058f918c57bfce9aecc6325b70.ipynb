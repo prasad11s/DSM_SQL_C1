{
    "metadata": {
        "kernelspec": {
            "name": "SQL",
            "display_name": "SQL",
            "language": "sql"
        },
        "language_info": {
            "name": "sql",
            "version": ""
        }
    },
    "nbformat_minor": 2,
    "nbformat": 4,
    "cells": [
        {
            "cell_type": "markdown",
            "source": [
                "# 1/ Create Data"
            ],
            "metadata": {
                "azdata_cell_guid": "5da2baa6-a6b2-4302-876f-e71cc92e404a"
            },
            "attachments": {}
        },
        {
            "cell_type": "code",
            "source": [
                "-- Create Customers Table\r\n",
                "CREATE TABLE Customers (\r\n",
                "    Customer_ID INT PRIMARY KEY,\r\n",
                "    Customer_Name VARCHAR(50)\r\n",
                ");\r\n",
                "\r\n",
                "-- Create Orders Table\r\n",
                "CREATE TABLE Orders (\r\n",
                "    Order_ID INT PRIMARY KEY,\r\n",
                "    Customer_ID INT,\r\n",
                "    Product VARCHAR(50),\r\n",
                "    Amount INT,\r\n",
                "    Order_Date DATE,\r\n",
                "    FOREIGN KEY (Customer_ID) REFERENCES Customers(Customer_ID)\r\n",
                ");"
            ],
            "metadata": {
                "azdata_cell_guid": "c8789068-3a7d-4c9a-bec7-0780d320a0f6",
                "language": "sql",
                "tags": []
            },
            "outputs": [
                {
                    "output_type": "display_data",
                    "data": {
                        "text/html": "Commands completed successfully."
                    },
                    "metadata": {}
                },
                {
                    "output_type": "display_data",
                    "data": {
                        "text/html": "Total execution time: 00:00:00.115"
                    },
                    "metadata": {}
                }
            ],
            "execution_count": 1
        },
        {
            "cell_type": "code",
            "source": [
                "-- Insert data into Customers Table\r\n",
                "INSERT INTO Customers (Customer_ID, Customer_Name)\r\n",
                "VALUES \r\n",
                "(1, 'Adam'),\r\n",
                "(2, 'Betty'),\r\n",
                "(3, 'Cathy'),\r\n",
                "(4, 'Doug'),\r\n",
                "(5, 'Eliza'),\r\n",
                "(6, 'Frank'),\r\n",
                "(7, 'Gina'),\r\n",
                "(8, 'Harry'),\r\n",
                "(9, 'Isla'),\r\n",
                "(10, 'Jack');"
            ],
            "metadata": {
                "language": "sql",
                "azdata_cell_guid": "f2a8bdf1-16f0-4b93-bf74-fb69ac76785f"
            },
            "outputs": [
                {
                    "output_type": "display_data",
                    "data": {
                        "text/html": "(10 rows affected)"
                    },
                    "metadata": {}
                },
                {
                    "output_type": "display_data",
                    "data": {
                        "text/html": "Total execution time: 00:00:00.048"
                    },
                    "metadata": {}
                }
            ],
            "execution_count": 2
        },
        {
            "cell_type": "code",
            "source": [
                "-- Cheak Data\r\n",
                "select * from Customers"
            ],
            "metadata": {
                "language": "sql",
                "azdata_cell_guid": "7e617f0e-df54-41f6-9a09-e11171c7ac19"
            },
            "outputs": [
                {
                    "output_type": "display_data",
                    "data": {
                        "text/html": "(10 rows affected)"
                    },
                    "metadata": {}
                },
                {
                    "output_type": "display_data",
                    "data": {
                        "text/html": "Total execution time: 00:00:00.037"
                    },
                    "metadata": {}
                },
                {
                    "output_type": "execute_result",
                    "execution_count": 3,
                    "data": {
                        "application/vnd.dataresource+json": {
                            "schema": {
                                "fields": [
                                    {
                                        "name": "Customer_ID"
                                    },
                                    {
                                        "name": "Customer_Name"
                                    }
                                ]
                            },
                            "data": [
                                {
                                    "Customer_ID": "1",
                                    "Customer_Name": "Adam"
                                },
                                {
                                    "Customer_ID": "2",
                                    "Customer_Name": "Betty"
                                },
                                {
                                    "Customer_ID": "3",
                                    "Customer_Name": "Cathy"
                                },
                                {
                                    "Customer_ID": "4",
                                    "Customer_Name": "Doug"
                                },
                                {
                                    "Customer_ID": "5",
                                    "Customer_Name": "Eliza"
                                },
                                {
                                    "Customer_ID": "6",
                                    "Customer_Name": "Frank"
                                },
                                {
                                    "Customer_ID": "7",
                                    "Customer_Name": "Gina"
                                },
                                {
                                    "Customer_ID": "8",
                                    "Customer_Name": "Harry"
                                },
                                {
                                    "Customer_ID": "9",
                                    "Customer_Name": "Isla"
                                },
                                {
                                    "Customer_ID": "10",
                                    "Customer_Name": "Jack"
                                }
                            ]
                        },
                        "text/html": "<table><tr><th>Customer_ID</th><th>Customer_Name</th></tr><tr><td>1</td><td>Adam</td></tr><tr><td>2</td><td>Betty</td></tr><tr><td>3</td><td>Cathy</td></tr><tr><td>4</td><td>Doug</td></tr><tr><td>5</td><td>Eliza</td></tr><tr><td>6</td><td>Frank</td></tr><tr><td>7</td><td>Gina</td></tr><tr><td>8</td><td>Harry</td></tr><tr><td>9</td><td>Isla</td></tr><tr><td>10</td><td>Jack</td></tr></table>"
                    },
                    "metadata": {}
                }
            ],
            "execution_count": 3
        },
        {
            "cell_type": "code",
            "source": [
                "-- Insert data into Orders Table with random dates in respective months\r\n",
                "INSERT INTO Orders (Order_ID, Customer_ID, Product, Amount, Order_Date)\r\n",
                "VALUES\r\n",
                "(1, 1, 'Eggs', 20, '2023-01-12'),\r\n",
                "(2, 2, 'Milk', 10, '2023-01-07'),\r\n",
                "(3, 3, 'Bread', 5, '2023-01-20'),\r\n",
                "(4, 2, 'Peanut Butter', 12, '2023-02-16'),\r\n",
                "(5, 3, 'Eggs', 18, '2023-02-09'),\r\n",
                "(6, 4, 'Milk', 11, '2023-02-22'),\r\n",
                "(7, 5, 'Bread', 7, '2023-02-05'),\r\n",
                "(8, 6, 'Eggs', 25, '2023-02-14'),\r\n",
                "(9, 1, 'Eggs', 19, '2023-03-08'),\r\n",
                "(10, 3, 'Bread', 6, '2023-03-13'),\r\n",
                "(11, 4, 'Milk', 10, '2023-03-24'),\r\n",
                "(12, 6, 'Eggs', 24, '2023-03-07'),\r\n",
                "(13, 7, 'Milk', 12, '2023-03-16'),\r\n",
                "(14, 8, 'Bread', 9, '2023-03-11'),\r\n",
                "(15, 9, 'Peanut Butter', 14, '2023-03-19');"
            ],
            "metadata": {
                "language": "sql",
                "azdata_cell_guid": "056a1b41-9a88-4abb-b15c-43f8418570af"
            },
            "outputs": [
                {
                    "output_type": "display_data",
                    "data": {
                        "text/html": "(15 rows affected)"
                    },
                    "metadata": {}
                },
                {
                    "output_type": "display_data",
                    "data": {
                        "text/html": "Total execution time: 00:00:00.082"
                    },
                    "metadata": {}
                }
            ],
            "execution_count": 3
        }
    ]
}